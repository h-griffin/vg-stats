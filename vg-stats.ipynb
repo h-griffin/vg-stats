{
 "cells": [
  {
   "cell_type": "markdown",
   "metadata": {},
   "source": [
    "# VG-stats H Griffin 6.27.20\n",
    "## videogame-stats"
   ]
  },
  {
   "cell_type": "code",
   "execution_count": 12,
   "metadata": {},
   "outputs": [],
   "source": [
    "import pandas as pd"
   ]
  },
  {
   "cell_type": "code",
   "execution_count": 13,
   "metadata": {},
   "outputs": [
    {
     "output_type": "stream",
     "name": "stdout",
     "text": "<class 'pandas.core.frame.DataFrame'>\nRangeIndex: 16598 entries, 0 to 16597\nData columns (total 11 columns):\n #   Column        Non-Null Count  Dtype  \n---  ------        --------------  -----  \n 0   Rank          16598 non-null  int64  \n 1   Name          16598 non-null  object \n 2   Platform      16598 non-null  object \n 3   Year          16327 non-null  float64\n 4   Genre         16598 non-null  object \n 5   Publisher     16540 non-null  object \n 6   NA_Sales      16598 non-null  float64\n 7   EU_Sales      16598 non-null  float64\n 8   JP_Sales      16598 non-null  float64\n 9   Other_Sales   16598 non-null  float64\n 10  Global_Sales  16598 non-null  float64\ndtypes: float64(6), int64(1), object(4)\nmemory usage: 1.4+ MB\n"
    }
   ],
   "source": [
    "df = pd.read_csv('./vgsales.csv', delimiter=',', encoding=\"utf-8-sig\")\n",
    "df.info()"
   ]
  },
  {
   "cell_type": "code",
   "execution_count": 14,
   "metadata": {},
   "outputs": [
    {
     "output_type": "execute_result",
     "data": {
      "text/plain": "'Electronic Arts'"
     },
     "metadata": {},
     "execution_count": 14
    }
   ],
   "source": [
    "#most common video game publisher\n",
    "most_common_publisher = df[\"Publisher\"].mode()[0]\n",
    "most_common_publisher"
   ]
  },
  {
   "cell_type": "code",
   "execution_count": 15,
   "metadata": {},
   "outputs": [
    {
     "output_type": "execute_result",
     "data": {
      "text/plain": "0    DS\ndtype: object"
     },
     "metadata": {},
     "execution_count": 15
    }
   ],
   "source": [
    "#most common platform\n",
    "most_common_platform = df[\"Platform\"].mode()\n",
    "most_common_platform"
   ]
  },
  {
   "cell_type": "code",
   "execution_count": 16,
   "metadata": {},
   "outputs": [
    {
     "output_type": "execute_result",
     "data": {
      "text/plain": "0    Action\ndtype: object"
     },
     "metadata": {},
     "execution_count": 16
    }
   ],
   "source": [
    "#most common genre\n",
    "most_common_genre = df[\"Genre\"].mode()\n",
    "most_common_genre"
   ]
  },
  {
   "cell_type": "code",
   "execution_count": 17,
   "metadata": {},
   "outputs": [
    {
     "output_type": "execute_result",
     "data": {
      "text/plain": "0.08"
     },
     "metadata": {},
     "execution_count": 17
    }
   ],
   "source": [
    "na_average = df[\"NA_Sales\"].median()\n",
    "na_average"
   ]
  },
  {
   "cell_type": "code",
   "execution_count": 9,
   "metadata": {},
   "outputs": [
    {
     "output_type": "execute_result",
     "data": {
      "text/plain": "0    Electronic Arts\ndtype: object"
     },
     "metadata": {},
     "execution_count": 9
    }
   ],
   "source": [
    "#most common video game publisher\n",
    "df[\"Publisher\"].mode()"
   ]
  },
  {
   "cell_type": "code",
   "execution_count": 25,
   "metadata": {},
   "outputs": [
    {
     "output_type": "execute_result",
     "data": {
      "text/plain": "        Rank                                Name Platform    Year  \\\n9931    9933            Spider-Man: Edge of Time      3DS  2011.0   \n9934    9936                    Turok: Evolution      GBA  2002.0   \n9957    9959                            Deadpool     XOne  2015.0   \n9996    9998          GT Advance 2: Rally Racing      GBA  2001.0   \n10000  10002                      A Witch's Tale       DS  2009.0   \n10012  10014                   Nickelodeon Dance     X360  2011.0   \n10020  10022            Phantasy Star Collection      GBA  2002.0   \n10022  10024               LEGO Knights' Kingdom      GBA  2004.0   \n10024  10026  Family Game Night 4: The Game Show      PS3  2011.0   \n10026  10028                        NBA Jam 2002      GBA  2002.0   \n\n              Genre              Publisher  NA_Sales  EU_Sales  JP_Sales  \\\n9931         Action             Activision      0.08      0.03      0.00   \n9934        Shooter  Acclaim Entertainment      0.08      0.03      0.00   \n9957         Action             Activision      0.08      0.03      0.00   \n9996         Racing                    THQ      0.08      0.03      0.00   \n10000  Role-Playing   Nippon Ichi Software      0.08      0.00      0.03   \n10012          Misc   Take-Two Interactive      0.08      0.02      0.00   \n10020  Role-Playing                  Atari      0.08      0.03      0.00   \n10022        Action                    THQ      0.08      0.03      0.00   \n10024          Misc        Electronic Arts      0.08      0.02      0.00   \n10026        Sports  Acclaim Entertainment      0.08      0.03      0.00   \n\n       Other_Sales  Global_Sales  \n9931          0.01          0.12  \n9934          0.00          0.12  \n9957          0.01          0.12  \n9996          0.00          0.11  \n10000         0.01          0.11  \n10012         0.01          0.11  \n10020         0.00          0.11  \n10022         0.00          0.11  \n10024         0.01          0.11  \n10026         0.00          0.11  ",
      "text/html": "<div>\n<style scoped>\n    .dataframe tbody tr th:only-of-type {\n        vertical-align: middle;\n    }\n\n    .dataframe tbody tr th {\n        vertical-align: top;\n    }\n\n    .dataframe thead th {\n        text-align: right;\n    }\n</style>\n<table border=\"1\" class=\"dataframe\">\n  <thead>\n    <tr style=\"text-align: right;\">\n      <th></th>\n      <th>Rank</th>\n      <th>Name</th>\n      <th>Platform</th>\n      <th>Year</th>\n      <th>Genre</th>\n      <th>Publisher</th>\n      <th>NA_Sales</th>\n      <th>EU_Sales</th>\n      <th>JP_Sales</th>\n      <th>Other_Sales</th>\n      <th>Global_Sales</th>\n    </tr>\n  </thead>\n  <tbody>\n    <tr>\n      <th>9931</th>\n      <td>9933</td>\n      <td>Spider-Man: Edge of Time</td>\n      <td>3DS</td>\n      <td>2011.0</td>\n      <td>Action</td>\n      <td>Activision</td>\n      <td>0.08</td>\n      <td>0.03</td>\n      <td>0.00</td>\n      <td>0.01</td>\n      <td>0.12</td>\n    </tr>\n    <tr>\n      <th>9934</th>\n      <td>9936</td>\n      <td>Turok: Evolution</td>\n      <td>GBA</td>\n      <td>2002.0</td>\n      <td>Shooter</td>\n      <td>Acclaim Entertainment</td>\n      <td>0.08</td>\n      <td>0.03</td>\n      <td>0.00</td>\n      <td>0.00</td>\n      <td>0.12</td>\n    </tr>\n    <tr>\n      <th>9957</th>\n      <td>9959</td>\n      <td>Deadpool</td>\n      <td>XOne</td>\n      <td>2015.0</td>\n      <td>Action</td>\n      <td>Activision</td>\n      <td>0.08</td>\n      <td>0.03</td>\n      <td>0.00</td>\n      <td>0.01</td>\n      <td>0.12</td>\n    </tr>\n    <tr>\n      <th>9996</th>\n      <td>9998</td>\n      <td>GT Advance 2: Rally Racing</td>\n      <td>GBA</td>\n      <td>2001.0</td>\n      <td>Racing</td>\n      <td>THQ</td>\n      <td>0.08</td>\n      <td>0.03</td>\n      <td>0.00</td>\n      <td>0.00</td>\n      <td>0.11</td>\n    </tr>\n    <tr>\n      <th>10000</th>\n      <td>10002</td>\n      <td>A Witch's Tale</td>\n      <td>DS</td>\n      <td>2009.0</td>\n      <td>Role-Playing</td>\n      <td>Nippon Ichi Software</td>\n      <td>0.08</td>\n      <td>0.00</td>\n      <td>0.03</td>\n      <td>0.01</td>\n      <td>0.11</td>\n    </tr>\n    <tr>\n      <th>10012</th>\n      <td>10014</td>\n      <td>Nickelodeon Dance</td>\n      <td>X360</td>\n      <td>2011.0</td>\n      <td>Misc</td>\n      <td>Take-Two Interactive</td>\n      <td>0.08</td>\n      <td>0.02</td>\n      <td>0.00</td>\n      <td>0.01</td>\n      <td>0.11</td>\n    </tr>\n    <tr>\n      <th>10020</th>\n      <td>10022</td>\n      <td>Phantasy Star Collection</td>\n      <td>GBA</td>\n      <td>2002.0</td>\n      <td>Role-Playing</td>\n      <td>Atari</td>\n      <td>0.08</td>\n      <td>0.03</td>\n      <td>0.00</td>\n      <td>0.00</td>\n      <td>0.11</td>\n    </tr>\n    <tr>\n      <th>10022</th>\n      <td>10024</td>\n      <td>LEGO Knights' Kingdom</td>\n      <td>GBA</td>\n      <td>2004.0</td>\n      <td>Action</td>\n      <td>THQ</td>\n      <td>0.08</td>\n      <td>0.03</td>\n      <td>0.00</td>\n      <td>0.00</td>\n      <td>0.11</td>\n    </tr>\n    <tr>\n      <th>10024</th>\n      <td>10026</td>\n      <td>Family Game Night 4: The Game Show</td>\n      <td>PS3</td>\n      <td>2011.0</td>\n      <td>Misc</td>\n      <td>Electronic Arts</td>\n      <td>0.08</td>\n      <td>0.02</td>\n      <td>0.00</td>\n      <td>0.01</td>\n      <td>0.11</td>\n    </tr>\n    <tr>\n      <th>10026</th>\n      <td>10028</td>\n      <td>NBA Jam 2002</td>\n      <td>GBA</td>\n      <td>2002.0</td>\n      <td>Sports</td>\n      <td>Acclaim Entertainment</td>\n      <td>0.08</td>\n      <td>0.03</td>\n      <td>0.00</td>\n      <td>0.00</td>\n      <td>0.11</td>\n    </tr>\n  </tbody>\n</table>\n</div>"
     },
     "metadata": {},
     "execution_count": 25
    }
   ],
   "source": [
    "with_median = df[df[\"NA_Sales\"] == na_average]\n",
    "with_median_count = len(with_median)\n",
    "mid_of_median = with_median_count // 2\n",
    "\n",
    "ten_sellers = with_median[mid_of_median - 5:mid_of_median + 5]\n",
    "\n",
    "ten_sellers"
   ]
  },
  {
   "cell_type": "code",
   "execution_count": 29,
   "metadata": {},
   "outputs": [
    {
     "output_type": "execute_result",
     "data": {
      "text/plain": "                                                   Name  Global_Sales\n0                                            Wii Sports         82.74\n1                                     Super Mario Bros.         40.24\n2                                        Mario Kart Wii         35.82\n3                                     Wii Sports Resort         33.00\n4                              Pokemon Red/Pokemon Blue         31.37\n...                                                 ...           ...\n16593                Woody Woodpecker in Crazy Castle 5          0.01\n16594                     Men in Black II: Alien Escape          0.01\n16595  SCORE International Baja 1000: The Official Game          0.01\n16596                                        Know How 2          0.01\n16597                                  Spirits & Spells          0.01\n\n[16598 rows x 2 columns]",
      "text/html": "<div>\n<style scoped>\n    .dataframe tbody tr th:only-of-type {\n        vertical-align: middle;\n    }\n\n    .dataframe tbody tr th {\n        vertical-align: top;\n    }\n\n    .dataframe thead th {\n        text-align: right;\n    }\n</style>\n<table border=\"1\" class=\"dataframe\">\n  <thead>\n    <tr style=\"text-align: right;\">\n      <th></th>\n      <th>Name</th>\n      <th>Global_Sales</th>\n    </tr>\n  </thead>\n  <tbody>\n    <tr>\n      <th>0</th>\n      <td>Wii Sports</td>\n      <td>82.74</td>\n    </tr>\n    <tr>\n      <th>1</th>\n      <td>Super Mario Bros.</td>\n      <td>40.24</td>\n    </tr>\n    <tr>\n      <th>2</th>\n      <td>Mario Kart Wii</td>\n      <td>35.82</td>\n    </tr>\n    <tr>\n      <th>3</th>\n      <td>Wii Sports Resort</td>\n      <td>33.00</td>\n    </tr>\n    <tr>\n      <th>4</th>\n      <td>Pokemon Red/Pokemon Blue</td>\n      <td>31.37</td>\n    </tr>\n    <tr>\n      <th>...</th>\n      <td>...</td>\n      <td>...</td>\n    </tr>\n    <tr>\n      <th>16593</th>\n      <td>Woody Woodpecker in Crazy Castle 5</td>\n      <td>0.01</td>\n    </tr>\n    <tr>\n      <th>16594</th>\n      <td>Men in Black II: Alien Escape</td>\n      <td>0.01</td>\n    </tr>\n    <tr>\n      <th>16595</th>\n      <td>SCORE International Baja 1000: The Official Game</td>\n      <td>0.01</td>\n    </tr>\n    <tr>\n      <th>16596</th>\n      <td>Know How 2</td>\n      <td>0.01</td>\n    </tr>\n    <tr>\n      <th>16597</th>\n      <td>Spirits &amp; Spells</td>\n      <td>0.01</td>\n    </tr>\n  </tbody>\n</table>\n<p>16598 rows × 2 columns</p>\n</div>"
     },
     "metadata": {},
     "execution_count": 29
    }
   ],
   "source": [
    "top_twenty = df[[\"Name\"]].head(20)\n",
    "top_twenty\n",
    "df[[\"Name\", \"Global_Sales\"]]"
   ]
  },
  {
   "cell_type": "code",
   "execution_count": 32,
   "metadata": {},
   "outputs": [
    {
     "output_type": "stream",
     "name": "stdout",
     "text": "41.49\n41.22533257018918\n50.47898767479108\n"
    }
   ],
   "source": [
    "#standard deviation away from mean na slales\n",
    "global_top_seller = df.iloc[0].NA_Sales\n",
    "print(global_top_seller)\n",
    "na_mean = df['NA_Sales'].mean()\n",
    "na_std = df[\"NA_Sales\"].std()\n",
    "distance = global_top_seller - na_mean\n",
    "print(distance)\n",
    "deviation = distance / na_std\n",
    "print(deviation)"
   ]
  },
  {
   "cell_type": "code",
   "execution_count": 33,
   "metadata": {},
   "outputs": [
    {
     "output_type": "execute_result",
     "data": {
      "text/plain": "0.6994037735849057"
     },
     "metadata": {},
     "execution_count": 33
    }
   ],
   "source": [
    "wii_games = df[df[\"Platform\"] == 'Wii']\n",
    "wii_games_mean = wii_games[\"Global_Sales\"].mean()\n",
    "wii_games_mean"
   ]
  },
  {
   "cell_type": "code",
   "execution_count": 34,
   "metadata": {},
   "outputs": [
    {
     "output_type": "execute_result",
     "data": {
      "text/plain": "0.5233896418516336"
     },
     "metadata": {},
     "execution_count": 34
    }
   ],
   "source": [
    "not_wii_games = df[df[\"Platform\"] != 'Wii']\n",
    "not_wii_games_mean = not_wii_games[\"Global_Sales\"].mean()\n",
    "not_wii_games_mean"
   ]
  },
  {
   "cell_type": "code",
   "execution_count": 35,
   "metadata": {},
   "outputs": [
    {
     "output_type": "execute_result",
     "data": {
      "text/plain": "1.3362965516676526"
     },
     "metadata": {},
     "execution_count": 35
    }
   ],
   "source": [
    "wii_vs_others = wii_games_mean / not_wii_games_mean\n",
    "wii_vs_others"
   ]
  },
  {
   "cell_type": "code",
   "execution_count": null,
   "metadata": {},
   "outputs": [],
   "source": [
    "def test():\n",
    "    def assert_equal(actual, expected)\n",
    "    assert actual == expected, f'expected {expected} but got {actual}'\n",
    "\n",
    "    assert_equal(most_common_publisher, None)\n",
    "    assert_equal(most_common_platform, None)\n",
    "    assert_equal(most_common_genre, None)\n",
    "    assert_equal(most_common_, None)\n",
    "    assert_equal(most_common_publisher, None)\n",
    "    assert_equal(most_common_publisher, None)\n",
    "\n",
    "    print('good dood')\n",
    "test()"
   ]
  }
 ],
 "metadata": {
  "language_info": {
   "codemirror_mode": {
    "name": "ipython",
    "version": 3
   },
   "file_extension": ".py",
   "mimetype": "text/x-python",
   "name": "python",
   "nbconvert_exporter": "python",
   "pygments_lexer": "ipython3",
   "version": "3.8.2-final"
  },
  "orig_nbformat": 2,
  "kernelspec": {
   "name": "python38264bitvenvvenv75f3331257844d7685b7885b62a478c3",
   "display_name": "Python 3.8.2 64-bit ('.venv': venv)"
  }
 },
 "nbformat": 4,
 "nbformat_minor": 2
}